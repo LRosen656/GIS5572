{
 "cells": [
  {
   "cell_type": "markdown",
   "metadata": {},
   "source": [
    "# Lab 0: Using ArcPy to Perform an Identical Buffer Fuction as a GUI"
   ]
  },
  {
   "cell_type": "markdown",
   "metadata": {},
   "source": [
    "## Introduction\n",
    "\n",
    "The purpose of this Notebook is to perform the buffer tool on a Vector Shapefile to produce an identical output. First, I will set up the environment. Then, I will use python code to call and use the buffer too. The output will be \"SNA_Buff_Arcpy\". If it worked correctly, The results can be seen in Arc Pro GUI."
   ]
  },
  {
   "cell_type": "markdown",
   "metadata": {},
   "source": [
    "## Environment Setup\n",
    "\n",
    "The following cells will be used to import arcpy and setup the enviroment."
   ]
  },
  {
   "cell_type": "code",
   "execution_count": 1,
   "metadata": {},
   "outputs": [],
   "source": [
    "import arcpy #importing ArcPY\n"
   ]
  },
  {
   "cell_type": "code",
   "execution_count": 2,
   "metadata": {},
   "outputs": [],
   "source": [
    "arcpy.env.workspace = 'D:/Users/Owner/Documents/ArcGIS/Projects/ROSEL_Lab0/ROSEL_Lab0.gdb' #Setting up enviroment to the geodatabase"
   ]
  },
  {
   "cell_type": "markdown",
   "metadata": {},
   "source": [
    "### Checking to see if it worked"
   ]
  },
  {
   "cell_type": "code",
   "execution_count": 3,
   "metadata": {},
   "outputs": [
    {
     "data": {
      "text/plain": [
       "['SNABuff', 'scientific_and_natural_area_boundaries.shp', 'sna_parking.shp']"
      ]
     },
     "execution_count": 3,
     "metadata": {},
     "output_type": "execute_result"
    }
   ],
   "source": [
    "featureclasses = arcpy.ListFeatureClasses() #if it worked, running the cell will return the featureclasses\n",
    "\n",
    "featureclasses"
   ]
  },
  {
   "cell_type": "markdown",
   "metadata": {},
   "source": [
    "## Running the Buffer Tool\n",
    "\n",
    "This next cell will run the buffer tool. The input will be 'scientific_and_natural_area_boundaries.shp'. The output data will be \"SNABuff_arcpy\" and the buffer distance will be 5 miles.  "
   ]
  },
  {
   "cell_type": "code",
   "execution_count": 5,
   "metadata": {},
   "outputs": [
    {
     "data": {
      "text/html": [
       "<h2>Output</h2>D:/Users/Owner/Documents/ArcGIS/Projects/ROSEL_Lab0/ROSEL_Lab0.gdb\\SNABuff_arcpy<h2>Messages</h2>Start Time: Monday, January 25, 2021 1:36:21 PM<br/>Succeeded at Monday, January 25, 2021 1:36:21 PM (Elapsed Time: 0.79 seconds)<br/><style>.rendered_html td, .rendered_html th {text-align: left;}.rendered_html tbody {border: 1px solid black;}</style>"
      ],
      "text/plain": [
       "<Result 'D:/Users/Owner/Documents/ArcGIS/Projects/ROSEL_Lab0/ROSEL_Lab0.gdb\\\\SNABuff_arcpy'>"
      ]
     },
     "execution_count": 5,
     "metadata": {},
     "output_type": "execute_result"
    }
   ],
   "source": [
    "arcpy.Buffer_analysis('scientific_and_natural_area_boundaries.shp', 'SNABuff_arcpy', '5 Miles') #input, Output, Buffer Distance, and all the rest are kept to the defaults."
   ]
  },
  {
   "cell_type": "markdown",
   "metadata": {},
   "source": [
    "It worked, I can see \"SNABuff_arcpy\" on the computer and it looks exactly the same as \"SNABuff\". This concludes the notebook"
   ]
  },
  {
   "cell_type": "code",
   "execution_count": null,
   "metadata": {},
   "outputs": [],
   "source": []
  }
 ],
 "metadata": {
  "kernelspec": {
   "display_name": "Python 3",
   "language": "python",
   "name": "python3"
  },
  "language_info": {
   "codemirror_mode": {
    "name": "ipython",
    "version": 3
   },
   "file_extension": ".py",
   "mimetype": "text/x-python",
   "name": "python",
   "nbconvert_exporter": "python",
   "pygments_lexer": "ipython3",
   "version": "3.7.9"
  }
 },
 "nbformat": 4,
 "nbformat_minor": 4
}

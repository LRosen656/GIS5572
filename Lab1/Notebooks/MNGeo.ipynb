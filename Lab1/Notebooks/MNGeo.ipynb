{
 "cells": [
  {
   "cell_type": "markdown",
   "metadata": {},
   "source": [
    "# MNGEO API\n",
    "\n",
    "This notebook will disply the MNGEO API. First, I will import the necessary packages and get variables from CKAN. Next, I will perform an inquiry using a package and a tag. Finally, I will iterate to a shapefile and download it. "
   ]
  },
  {
   "cell_type": "markdown",
   "metadata": {},
   "source": [
    "## Start\n",
    "\n",
    "The packages needed are requests, json, and pprint. Requests will get the url, json will allow me to view it as a dictionary, and pprint will allow me to see results."
   ]
  },
  {
   "cell_type": "code",
   "execution_count": 1,
   "metadata": {},
   "outputs": [],
   "source": [
    "import requests\n",
    "import json\n",
    "import pprint"
   ]
  },
  {
   "cell_type": "markdown",
   "metadata": {},
   "source": [
    "The API used for MNGEO is CKAN. They have three main ways to categorize data. Packages, have the main data, group is a specified category, and tags are a keyword search. "
   ]
  },
  {
   "cell_type": "code",
   "execution_count": 2,
   "metadata": {},
   "outputs": [],
   "source": [
    "\n",
    "packages = \"https://gisdata.mn.gov/api/3/action/package_list\" ## This is how CKAN works, it has packages, groups and tags. \n",
    "groups = \"https://gisdata.mn.gov/api/3/action/group_list\"\n",
    "tags = \"https://gisdata.mn.gov/api/3/action/tag_list\""
   ]
  },
  {
   "cell_type": "code",
   "execution_count": 3,
   "metadata": {},
   "outputs": [
    {
     "name": "stderr",
     "output_type": "stream",
     "text": [
      "D:\\Program Files\\ArcGIS\\Pro\\bin\\Python\\envs\\arcgispro-py3\\lib\\site-packages\\urllib3\\connectionpool.py:988: InsecureRequestWarning: Unverified HTTPS request is being made to host 'gisdata.mn.gov'. Adding certificate verification is strongly advised. See: https://urllib3.readthedocs.io/en/latest/advanced-usage.html#ssl-warnings\n",
      "  InsecureRequestWarning,\n"
     ]
    }
   ],
   "source": [
    "response = requests.get(tags, auth=('user', 'pass'), verify= False) ##testing to see if I can retrieve the tags. For some reason, I could only really get it if I added credentials to it. "
   ]
  },
  {
   "cell_type": "code",
   "execution_count": 4,
   "metadata": {},
   "outputs": [
    {
     "data": {
      "text/plain": [
       "b'{\"help\": \"https://gisdata.mn.gov/api/3/action/help_show?name=tag_list\", \"success\": true, \"result\": [\"100k index\", \"103e\", \"15 minute\", \"1994\", \"1-meter orthophoto\", \"1 water supply planning working groups\", \"2000 census\", \"2002\", \"2010\", \"2010 census\", \"2012\", \"2015\", \"2016\", \"2020\", \"2020 musa\", \"2030\", \"2030 framework\", \"2030 framework planning areas\", \"2030 musa\", \"2040\", \"2040 musa\", \"2050\", \"24k index\", \"24k streams\", \"250k index\", \"2 primary drinking water supply sources\", \"303d\", \"3 municipal wells per community in 1980 and 2040\", \"4 average daily municipal demand in 1980 and 2040\", \"5 2015 master water supply plan community profiles\", \"62500\", \"911\", \"9-1-1\", \"9-1-1 address validation\", \"aadt\", \"abandoned sewer interceptors\", \"abrt\", \"ac\", \"aca\", \"access\", \"access trails\", \"acp\", \"acp50\", \"acquisition\", \"acquisitions\", \"active living\", \"activities\", \"activity\", \"activity center\", \"activity level\", \"addin\", \"address\", \"addresses\", \"addressing\", \"address points\", \"address ranges\", \"admin\", \"administration\", \"administrative\", \"administrative boundaries\", \"aerial\", \"aerial imagery\", \"aerial photo\", \"aerial photograph\", \"aerial photography\", \"aerial photos\", \"aerials\", \"aeromagnetic\", \"affluence\", \"affordable\", \"agchem\", \"aggregate mapping program\", \"aggregate potential\", \"aggregate quality\", \"aggregate resource mapping program\", \"aggregate resources\", \"aggregate source information system asis\", \"agricultural\", \"agricultural chemicals\", \"agricultural chemical spill inspection\", \"agricultural preserves\", \"agriculture\", \"airphoto\", \"air photo\", \"air photography\", \"air photos\", \"airport\", \"ais\", \"alewife\", \"alighting\", \"a line\", \"all-terrain vehicles\", \"altered streams\", \"altered watercourse\", \"amenities\", \"american community survey\", \"amphibian\", \"am radio\", \"am towers\", \"and access\", \"and building\", \"and control section\", \"and drivers\", \"and  government unit boundary\", \"and heliports\", \"and median\", \"and mpa\", \"and regional development\", \"and reservations\", \"and road\", \"and roads\", \"and strahnet\", \"and tolls\", \"and traffic counts\", \"and traffic volumes\", \"and tribal lands\", \"and width\", \"anhydrous ammonia inspection\", \"animal\", \"animal disease\", \"animal health\", \"animals\", \"animal units\", \"annexation\", \"annual estimates\", \"anoka\", \"antennas\", \"antenna structure registration\", \"antimycin\", \"aoc\", \"apc\", \"aphis\", \"api\", \"app\", \"application pipe\", \"apps\", \"aquatic invasive species\", \"aquatic plant\", \"aquatic plant survey\", \"aquatic vegetation\", \"arcgis\", \"archaeology\", \"archery\", \"archive\", \"area code\", \"area of concern\", \"areas\", \"areas fo concentrated poverty\", \"areas of concentrated poverty where 50 or more are people of color\", \"arsenic\", \"arterial bus rapid transit\", \"arterial street corridors\", \"arts  cultural heritage\", \"arts cultural heritage\", \"asr\", \"assessed\", \"assessment\", \"assessment units\", \"asset\", \"asthma\", \"atis\", \"atp districts and state patrol\", \"attendance area\", \"attendance boundary\", \"attorney general\", \"atv\", \"automatic passenger counter\", \"avl\", \"backpacking\", \"badger\", \"bank\", \"bankfull\", \"banking\", \"basemap\", \"base map\", \"basemaps\", \"base maps\", \"basic\", \"basins\", \"bathymetry\", \"battalion\", \"battery\", \"bdry\", \"beaches\", \"bear\", \"bear harvest\", \"bearing trees\", \"beaver\", \"becker\", \"bedrock\", \"bedrockaggregate resources\", \"bedrock geology\", \"bedrock outcrops\", \"bedrock sources\", \"bedrock surface\", \"bedrock topography\", \"benchmark\", \"beneficial use impairment\", \"benefitcost\", \"best management practices\", \"bicycle\", \"bicycle facility\", \"bicycling\", \"big game\", \"bighead carp\", \"big stone\", \"bike\", \"bikepath\", \"bike paths\", \"bike route\", \"bike routes\", \"bike trails\", \"bikeway\", \"bikeways\", \"biking\", \"biodiversity\", \"biological monitoring\", \"biological significance\", \"biological survey\", \"biology\", \"biota\", \"bird\", \"birth\", \"biz\", \"block\", \"block boundaries\", \"block group\", \"block groups\", \"blocks\", \"blue line\", \"bluespots\", \"bluff\", \"bluff impact zone\", \"bluffs\", \"bmp\", \"bmsb brown marmorated stink bug\", \"boarding\", \"boarding care\", \"boat access\", \"boat launch\", \"bobcat\", \"bobcat hunting\", \"bog\", \"borders\", \"borings\", \"bounce rate\", \"boundaries\", \"boundaries of wildlife management areas\", \"boundary\", \"breakline\", \"breaklline\", \"breakwater\", \"bridge\", \"brook trout\", \"brownfield\", \"brown trout\", \"brs\", \"brt\", \"budworm\", \"bui\", \"building\", \"building footprints\", \"building locations\", \"building outlines\", \"building permits\", \"building polygons\", \"buildings\", \"burden\", \"buried sand and gravel aquifer\", \"bus\", \"buses\", \"business\", \"bus rapid transit\", \"bus routes\", \"bus shelter\", \"bus stops\", \"bwsr\", \"byway\", \"cadastral\", \"cadastre\", \"cafo\", \"calcareous fens\", \"camp\", \"camper\", \"campgrounds\", \"camping\", \"camping unit\", \"campsite\", \"cancer\", \"canoe and boating routes\", \"canopy cover landsat time series forest\", \"capture zone\", \"care providers\", \"carpool\", \"catchment\", \"catchment disturbance\", \"caterpillar\", \"cellular\", \"cellular service area boundaries\", \"cellular towers\", \"census\", \"census block groups\", \"census blocks\", \"census boundaries\", \"census bureau data\", \"census tract\", \"census tracts\", \"centerline\", \"centerlines\", \"cerclis\", \"certification\", \"change analysis\", \"channelized streams\", \"charter\", \"charter school\", \"charter school locations\", \"checkups\", \"child\", \"child care\", \"chronic obstructive pulmonary disease\", \"cic\", \"cisco lakes\", \"cities\", \"citizen lake monitoring program\", \"citizen science\", \"citizen stream monitoring program\", \"city\", \"city boundaries\", \"city boundary\", \"city connection\", \"city hall\", \"city park\", \"civil township boundary\", \"class\", \"cleanup\", \"clean up\", \"clean water\", \"clean water fund\", \"climate\", \"climate vulnerability assessment\", \"c line\", \"clinics\", \"closed river zone\", \"closures\", \"clu\", \"coincident\", \"coldwater\", \"collar counties\", \"color infrared\", \"color-infrared\", \"commercial\", \"commissioner\", \"commissioner districts\", \"commissioner orders\", \"common land unit\", \"communication\", \"communities\", \"community\", \"community boundaries\", \"community designation\", \"community development\", \"commute\", \"commuter rail\", \"commuting\", \"compilation\", \"compliance\", \"comprehensive plan\", \"computer aided dispatch areas\", \"condition ranks\", \"condo\", \"condominium\", \"congress\", \"congressional\", \"conservation\", \"conservation corridors\", \"conservation officer\", \"conservation ranks\", \"constitutional amendment\", \"construction\", \"construction aggregate potential\", \"construction aggregates\", \"contaminated property\", \"contamination\", \"contour\", \"contours\", \"contributing area\", \"control room\", \"conversation\", \"coolwater\", \"coop\", \"cooperative\", \"coordinates\", \"corners\", \"corporate limits\", \"corrections\", \"corridors\", \"council\", \"council districts\", \"count\", \"counties\", \"county\", \"county boundaries\", \"county commissioners\", \"county ditch\", \"county ditches\", \"county geologic atlas\", \"county orthophoto\", \"county park\", \"county right of ways\", \"county seat\", \"county seats\", \"county subdivisions\", \"covenants\", \"cover types\", \"cowardin\", \"crime\", \"critical area\", \"crop\", \"crop cover\", \"crop estimates\", \"cropland\", \"crops\", \"cropscape\", \"crossing\", \"crushed stone\", \"ctu\", \"ctus\", \"cul-de-sac\", \"cultivated land\", \"cultural features\", \"culvert\", \"curly-leaf pondweed\", \"current revenue\", \"cuyuna range\", \"cycling\", \"dairy inspection\", \"dakota county\", \"dakota county minnesota\", \"dakota county mn\", \"dam\", \"dams\", \"data documentation\", \"day-use areas\", \"dc\", \"dedicated\", \"deepwater habitats\", \"deer\", \"deer harvest\", \"degree of decomposition\", \"delisted\", \"dem\", \"demand response\", \"democracy\", \"demographic\", \"demographic profile\", \"demographics\", \"density\", \"density policy\", \"depth\", \"depth to bedrock\", \"designated\", \"designated trout lakes\", \"designated trout streams\", \"detention facility\", \"detours\", \"development\", \"dfirm database\", \"dfirm special flood hazard area\", \"dial-a-ride\", \"digital aerial photography\", \"digital elevation model\", \"digital flood insurance rate map\", \"digital image map\", \"digital ortho\", \"digital orthophoto\", \"digital orthophotography\", \"digital orthophotoquad\", \"digital orthophoto quad\", \"digital orthophotos\", \"digital orthorectified image\", \"digital orthorectified images\", \"digital raster graphic\", \"digital spatial data\", \"digital terrain model\", \"dimension stone\", \"diseases\", \"dispatching\", \"disposal\", \"disposal site\", \"district\", \"districts\", \"district service center\", \"disturbance agents\", \"ditch\", \"ditches\", \"diversity\", \"d line\", \"dnr\", \"dnr-administered lands\", \"dnr fisheries\", \"dog\", \"dog sled\", \"dolostone\", \"donation\", \"doq\", \"doq index\", \"doqq\", \"doqqs\", \"downloads\", \"drainage\", \"drainage area\", \"drg\", \"drift thickness\", \"drill core evaulation\", \"drill core library\", \"drinking water\", \"drinking water supply management area\", \"driveways\", \"drop box\", \"drumming\", \"dry well\", \"dsm\", \"dtm\", \"ducks\", \"dump\", \"dump site\", \"duration\", \"dynamic segmentation\", \"e911\", \"e-911\", \"e911 road\", \"e911 roads\", \"eab\", \"earth cover\", \"easement\", \"easements\", \"eau claire formation\", \"ebs\", \"ecological\", \"ecological classification system\", \"ecological classification system ecs\", \"ecological corridors\", \"ecological patches\", \"ecology\", \"ecosystem\", \"ecosystems\", \"ecs\", \"ecs provinces\", \"edge of pavement\", \"education\", \"educational program\", \"effluent\", \"election\", \"election district\", \"election results\", \"elections\", \"electric\", \"electrical utilities\", \"electrical utility\", \"electricity\", \"electric service areas\", \"electric utilities\", \"electric utility service area\", \"elementary school\", \"elemetary\", \"elev\", \"elevation\", \"elevation topography\", \"elink\", \"emerald ash borer\", \"emergency\", \"emergency medical service\", \"emergency medical service agency\", \"emergency response\", \"emergency response area\", \"emergency service agency\", \"emergency service number\", \"emergency service response agency\", \"emergency services\", \"emergency service zone\", \"employment\", \"employment center\", \"employment density\", \"ems\", \"emt\", \"energy\", \"enforcement\", \"engineering\", \"enhanced 911 roads\", \"enhanced e911 road\", \"enrollment\", \"enrtf\", \"entrances\", \"environment\", \"environmental\", \"environmental assessment\", \"environmental justice\", \"environmental monitoring\", \"environmental partners\", \"environmental review\", \"environment and natural resources trust fund\", \"environment natural resources trust fund\", \"equis\", \"esn\", \"esri\", \"esz\", \"ethanol\", \"ethanol plants\", \"eurasian watermilfoil\", \"eutrophication\", \"executive order\", \"executive order 79-19\", \"exotics\", \"exploration\", \"express bus corridors\", \"external stations\", \"extractive\", \"faa\", \"facilities\", \"facility\", \"fall\", \"family\", \"farming\", \"farm sevices agency\", \"fat bike\", \"fcc\", \"feature dataset\", \"features\", \"federal\", \"federal communications commission\", \"federal right of ways\", \"feed inspection\", \"feedlot\", \"fee title\", \"fema\", \"fen\", \"ferry\", \"fertilizer\", \"fetch\", \"field notes\", \"field observations\", \"final right of way map\", \"fin fishing in the neighborhood\", \"fips\", \"fips55\", \"fips place\", \"fips place code\", \"fips place codes\", \"fire\", \"fire and emergency medical services\", \"fire department\", \"fire station\", \"fire stations\", \"fish\", \"fisher\", \"fisheries\", \"fishing\", \"fishpassage\", \"flood\", \"flood elevation\", \"flood hazard zone\", \"flooding\", \"flooding base\", \"floodplain\", \"floodway\", \"floristic quality index\", \"flow\", \"flowering rush\", \"flow meter\", \"fm radio\", \"fm towers\", \"food\", \"food inspection\", \"footprint\", \"forcemain\", \"forecast\", \"forecasts\", \"foreclosed property\", \"foreclosure\", \"forest\", \"forest change\", \"forest fire\", \"forest health\", \"forest inventory\", \"forestry\", \"forests\", \"forties\", \"four band imagery\", \"fqi\", \"fracture\", \"franconia formation\", \"free\", \"free data\", \"fsa\", \"fuel peat\", \"functional\", \"functional class\", \"functional class roads\", \"functional class roads regional solicitation planned 2016\", \"fund\", \"future land use\", \"gac\", \"gaging stations\", \"gap\", \"garmin\", \"gas\", \"gdrs\", \"general election\", \"generalized land use\", \"general land office\", \"general soil map\", \"geochemistry\", \"geocoder\", \"geocoding\", \"geodetic\", \"geodetic control\", \"geographic names\", \"geographic zones\", \"geologic\", \"geological characteristics\", \"geologic feature\", \"geologic resources\", \"geologic station\", \"geology\", \"geology and soils\", \"geometric network\", \"geomorphology\", \"georectification\", \"georeference\", \"geoscienficinformation\", \"geoscientificinformaiton\", \"geoscientificinformation\", \"geoscientific information\", \"geospatial data\", \"gis\", \"gis data\", \"glacial geology\", \"glo\", \"global positioning system\", \"global ranks\", \"glo field notes\", \"glo maps\", \"gnis\", \"gold\", \"goldfish\", \"golf course\", \"government lots\", \"government unit boundary\", \"governor\", \"gps\", \"gradations\", \"granite\", \"g-ranks\", \"grants\", \"graphic orders\", \"grass carp\", \"grassland modeling\", \"grasslands\", \"gravel pit\", \"gravity\", \"gray fox\", \"great gray owl\", \"great lakes\", \"green line\", \"greenways\", \"groundwater\", \"ground water\", \"groundwater flow model\", \"ground water levels\", \"groundwater management\", \"groundwater management area\", \"groundwater recharge\", \"groundwatershed\", \"group area\", \"group camp\", \"grouse\", \"growth\", \"growth management\", \"growth strategy\", \"gssurgo\", \"gypsy moth\", \"habitat\", \"habitat analysis\", \"habitat corridors\", \"habitat protection\", \"habitat quality\", \"habitat restoration\", \"habitat types\", \"half section\", \"halyomorpha halys\", \"harvest\", \"hastus\", \"hatcheries\", \"hawk owl\", \"hazardous waste\", \"hazards\", \"hcaadt\", \"hcvf\", \"headway\", \"health\", \"health care\", \"healthy\", \"heat\", \"heatwave\", \"heavy commercial\", \"height\", \"hennepin\", \"hennepin county\", \"heterosporis\", \"high\", \"high conservation value forests\", \"high-frequency network\", \"high school\", \"high voltage\", \"highway\", \"highway right of way\", \"highways\", \"hiking\", \"hiking club\", \"hillshade\", \"hillshading\", \"his\", \"historic\", \"historic air photos\", \"historical\", \"historical transit facilities\", \"historical transit routes\", \"historical vegetation\", \"historical waters\", \"historic landscape\", \"historic right of way\", \"historic surface hydrography\", \"historic vegetation\", \"historic wetlands\", \"home care\", \"home health\", \"home interview survey\", \"homes\", \"horizontal\", \"horizontal control\", \"horse campgrounds\", \"horse camping\", \"horsecar\", \"horse trails\", \"horticultural peat\", \"hospice\", \"hospital\", \"hospitals\", \"house\", \"household interview survey\", \"household ravel survey\", \"households\", \"house home\", \"house number\", \"housing\", \"hov\", \"hra\", \"hub\", \"huc\", \"hud\", \"hunting\", \"hvtl\", \"hydraulic head\", \"hydrogeology\", \"hydrographic\", \"hydrography\", \"hydrologic points of interest\", \"hydrologic unit\", \"hydrologic unit level\", \"hydrology\", \"ibi\", \"image\", \"image interpretation\", \"image map\", \"imagery\", \"imagerybasemapsearthcover\", \"imagery theme\", \"images\", \"immunizations\", \"impaired waters\", \"impervious surface\", \"impervious surface area\", \"impoundments\", \"income tax\", \"index\", \"index of biological integrity\", \"index of biotic integrity\", \"indian\", \"industrial\", \"industrial and utility\", \"industrial minerals\", \"industrial permits\", \"industries\", \"industry\", \"industry type\", \"infested waters\", \"influence areas\", \"information\", \"infrastructure\", \"inland\", \"inlandwaters\", \"inland waters\", \"inlet\", \"inline skating\", \"insects\", \"insect survey\", \"institutional\", \"institutional control\", \"institutional controls\", \"integration\", \"interaction\", \"interactive map\", \"interceptor\", \"interest types\", \"interpretive trails\", \"intersection counts\", \"interstate highway\", \"invasives\", \"invasive species\", \"invertebrates\", \"investigation\", \"ipeds\", \"ironton and galesville sandstones\", \"jail\", \"job and activity centers\", \"job center\", \"job density\", \"jobs\", \"joint ditch\", \"jordan sandstone\", \"judicial ditch\", \"jurisdictional boundary\", \"k-12\", \"k areas\", \"karst\", \"karst distribution\", \"karst feature database\", \"karst features\", \"karst features database\", \"karst geology\", \"karst susceptibility\", \"karst susceptible\", \"kayak trail\", \"laboratory analysis\", \"lake\", \"lake monitoring\", \"lakes\", \"lakeshore\", \"lakes of biological significance\", \"lake survey\", \"lake trout\", \"lake watershed health\", \"land\", \"land acquisitions\", \"land application\", \"landcover\", \"land cover\", \"landfill\", \"landforms\", \"landform-sediment assemblages\", \"landmarks\", \"land mobile\", \"land mobile communications\", \"land mobile stations\", \"land ownership\", \"lands and minerals\", \"landsat\", \"landsat time series\", \"landscape diversity\", \"landscape model\", \"land stewardship\", \"land surface temperature\", \"landties\", \"land type\", \"land type associations\", \"land use\", \"land usecover\", \"land use districts\", \"lane\", \"large lakes\", \"largemouth bass virus lmbv\", \"las\", \"lata zone\", \"law\", \"law enforcement\", \"lbs\", \"lca\", \"lcatod\", \"lcc\", \"lccmr\", \"lcda\", \"leachate\", \"lead\", \"leaf-off\", \"leak\", \"least-cost path\", \"led\", \"left\", \"legacy\", \"legacy fund\", \"legacy funding\", \"legal description\", \"legislative\", \"legislative district\", \"legislative representation\", \"legislature\", \"lehd\", \"lehmann collection\", \"lessard-sams outdoor heritage council\", \"level\", \"lfsa\", \"library\", \"license\", \"licenses\", \"licensing\", \"lidar\", \"life expectancy\", \"lift station\", \"light rail\", \"light rail transit\", \"linear referencing\", \"linear referencing system\", \"liquid waste receiving\", \"list\", \"lithostratigraphy\", \"littoral zone\", \"livable communities\", \"livable community demonstration account\", \"livestock\", \"lng facility\", \"loc\", \"local connection\", \"local sales and use tax\", \"local urban service area\", \"locate\", \"location\", \"locations\", \"locator\", \"locks\", \"lodes\", \"logs\", \"long term planning\", \"lost waters\", \"lot\", \"lots\", \"lower st croix river\", \"low head crossing\", \"low-wage job density\", \"lrs\", \"lrt\", \"lscr\", \"lsohc\", \"ltsa\", \"lumber\", \"lusa\", \"lymantria dispar\", \"m-102\", \"mailing\", \"mail labels\", \"maintenance\", \"maintenance subareas and construction districts\", \"major highway\", \"major roads\", \"major watershed\", \"mall of america\", \"managed\", \"managed areas\", \"managed lands\", \"managed streams\", \"management\", \"management facilities\", \"management units\", \"manufactured home\", \"manufacturing\", \"manufacturing and distribution locations\", \"manure\", \"map\", \"map features\", \"mapserver\", \"marsh\", \"marten\", \"master street address guide\", \"max length\", \"mbs sites\", \"mbs sites of biological significance\", \"mcd\", \"mcd boundary\", \"mcds\", \"measure\", \"medical\", \"medicine\", \"memorial\", \"metadata\", \"metadata editor\", \"metallic minerals\", \"met council\", \"meter\", \"metering\", \"metershed\", \"metes and bounds\", \"methane\", \"metrics\", \"metro\", \"metrogis\", \"metro mobility\", \"metro model 2\", \"metropolitan\", \"metropolitan council\", \"metropolitan council districts\", \"metropolitan parks and open space commission\", \"metropolitan urban service area\", \"metro transit\", \"mgc\", \"mgs\", \"microwave\", \"microwave towers\", \"middle school\", \"migratory waterfowl\", \"mile\", \"mile marker\", \"mile measures\", \"minarchive\", \"mine locations\", \"mineral endowment\", \"mineral exploration\", \"mineral exploration documents\", \"mineral leases\", \"mineral potential\", \"mineral resources\", \"minerals\", \"mink\", \"minnesota\", \"minnesota department of health\", \"minnesota geographic metadata guidelines mgmg\", \"minnesota pollution control agency\", \"minnesota state highway\", \"minnesota state patrol\", \"minor civil division boundary\", \"minor civil divisions\", \"minor watershed\", \"mississippi\", \"mississippi river\", \"mississippi river corridor critical area\", \"mixed use\", \"mn\", \"mndot\", \"mndot right of way map\", \"mndot right of way plat\", \"mnmodel\", \"mnmodel4\", \"mnpass\", \"mnrra\", \"mnwap\", \"moa\", \"mobile home\", \"model\", \"moderate\", \"monitoring\", \"monitoring points\", \"monitoring sites\", \"monitoring stations\", \"monuments\", \"moose\", \"morphology\", \"morphometric\", \"mosaic\", \"mosquitoes\", \"motorized\", \"mountain biking\", \"mpca\", \"mpca phosphorus impairment threshold\", \"mpo\", \"mrcc\", \"mrcca\", \"ms4\", \"msag\", \"msag community\", \"msp\", \"mt simon sandstone\", \"multifamily residential\", \"multivariate statistical analysis\", \"municipal\", \"municipal boundaries\", \"municipal boundary\", \"municipal codes\", \"municipalities\", \"municipality\", \"municipal office\", \"municipal right of way\", \"municpal public water supply system\", \"musa\", \"muskie lakes\", \"muskrat\", \"mussels\", \"naip\", \"name\", \"national\", \"national hydrography dataset\", \"national park service\", \"national scenic riverway\", \"national vegetation classification standard\", \"national wetland inventory\", \"national wetlands inventory\", \"native american\", \"native plant communities\", \"native sod\", \"natural\", \"natural area\", \"natural color orthophoto\", \"natural communities\", \"natural gas\", \"natural heritage\", \"natural plant communities\", \"natural resources\", \"natural streams\", \"navigable water\", \"navigation\", \"ncompass\", \"ncompass edits\", \"ncompass landmarks\", \"ncss\", \"ndsm\", \"near surface\", \"nesting\", \"next generation 9-1-1\", \"ng911\", \"ng9-1-1\", \"nhd\", \"nhd events\", \"nhs\", \"nitrogen\", \"node\", \"nodes\", \"none\", \"non-motorized\", \"non-public school\", \"nonpublic school\", \"non public schools\", \"nonresidential building permits\", \"nontoxic shot\", \"normalized digital surface model\", \"normals\", \"northstar\", \"northstar commuter rail\", \"notification\", \"notify\", \"no wake zones\", \"npc\", \"npdes\", \"npl\", \"nps vegetation inventory program\", \"nursery inspection\", \"nursing\", \"nursing home\", \"nursing homes\", \"nutrient loading\", \"nutrients\", \"nvcs\", \"nwi\", \"oak wilt\", \"object based image classification\", \"obs\", \"observation\", \"occupancy\", \"off-highway motorcycles\", \"off-highway vehicles\", \"office\", \"off-road vehicles\", \"off-street bikeways\", \"ohm\", \"ohv\", \"oil\", \"on-board\", \"one plan\", \"one watershed\", \"on-street bikeways\", \"open\", \"open data\", \"open space\", \"open water features\", \"opossum\", \"orange\", \"ordinances\", \"organics\", \"organization\", \"original survey maps\", \"original vegetation\", \"origin-destination\", \"or preserve\", \"ortho\", \"orthoimage\", \"orthoimagery\", \"orthophoto\", \"orthophotography\", \"orthophotos\", \"orthorectified\", \"orv\", \"otter\", \"outcrop\", \"outdoor\", \"outdoor heritage\", \"outfall\", \"outlet\", \"outlot\", \"outstanding\", \"overnight\", \"overpass\", \"owl\", \"ownership\", \"pager\", \"pager towers\", \"page views\", \"paging\", \"paleozoic\", \"parcel\", \"parcel boundary\", \"parcel point\", \"parcels\", \"park\", \"park amenities\", \"park and ride\", \"park and rides\", \"parking\", \"park reserves\", \"parks\", \"parks  trails\", \"park trails\", \"patrol officer\", \"patterns\", \"paved\", \"pavement\", \"pca\", \"pdf\", \"peat\", \"peat inventory site descriptions\", \"peat inventory sites\", \"peatland classification\", \"peatland landforms\", \"peat leases\", \"peat samples\", \"pedestrian\", \"pedestrian traffic\", \"people\", \"per capita\", \"perennial buffers\", \"permit\", \"permits\", \"personal property\", \"pesticide\", \"petroleum\", \"pheasant\", \"pheasant hunting\", \"phosphorus sensitivity\", \"photography\", \"physical features\", \"pier\", \"pipe\", \"pipeline\", \"pipelines\", \"placenames\", \"places\", \"plan\", \"planimetrics\", \"planned alignment\", \"planned community\", \"planned land use\", \"planned roads\", \"planned transit stations\", \"planned transitway alignment\", \"planned transitway alignments\", \"planned transitway stations\", \"planning\", \"planning and development\", \"planningcadastre\", \"planning region\", \"plants\", \"plat\", \"plat boundary\", \"plat maps\", \"plp\", \"pls\", \"plss\", \"pls section\", \"pls sections\", \"points of interest\", \"polaris joint venture\", \"police department\", \"police station\", \"policy plan\", \"political boundaries\", \"political township boundary\", \"polling\", \"polling places\", \"pollution\", \"pollution control agency\", \"pollution sensitivity\", \"ponds\", \"populated places\", \"population\", \"population health\", \"post\", \"post-2030 musa\", \"post-2040 musa\", \"post office\", \"postsecondary\", \"post secondary\", \"potential\", \"poverty\", \"power\", \"powerlines\", \"power lines\", \"ppq\", \"prairie\", \"prairie du chien group\", \"precambrian\", \"precambrian geology\", \"precinct\", \"precincts\", \"precipitation\", \"prehistoric landscape\", \"prehistoric surface hydrography\", \"prehistoric wetlands\", \"preserve\", \"presettlement vegetation\", \"presidential\", \"primary\", \"primary conservation area\", \"priority\", \"prison\", \"probability\", \"profile descriptions\", \"program\", \"program locations\", \"programs\", \"projected demand\", \"projection\", \"prone\", \"property\", \"property boundary\", \"property information\", \"property owner\", \"proposed roads\", \"protection\", \"province\", \"psap\", \"public\", \"public agency\", \"public ditch layer\", \"public land survey\", \"public land survey pls\", \"public land survey service\", \"public land survey system\", \"public parcels\", \"public pland survey\", \"public safety\", \"public safety answering point\", \"public school\", \"public school district center\", \"public school district office\", \"public use facilities\", \"public water access\", \"public waters\", \"public water supply\", \"pumping\", \"pump station\", \"purple loosestrife\", \"python\", \"qcew\", \"quad\", \"quadrangle\", \"quadrangle index\", \"quality\", \"quarries\", \"quarry\", \"quarry locations\", \"quarter-quadrangle orthophoto\", \"quarter quarter section\", \"quaternary geology\", \"quaternary stratigraphy\", \"quater section\", \"quick layers\", \"rac\", \"raccoon\", \"race\", \"rail\", \"railroad\", \"railroad junctions\", \"railroads\", \"railroad station plat map\", \"railway\", \"rain\", \"rainbow smelt\", \"rainbow trout\", \"rain gauge\", \"raised bog\", \"range\", \"ranking\", \"raods\", \"rapids\", \"rare features\", \"rare plant communities\", \"rare plants\", \"rare species\", \"rbtn\", \"rcra\", \"rdc\", \"rdo\", \"real property\", \"recharge\", \"reclaim\", \"reclamation\", \"recreation\", \"recreational\", \"recreational center\", \"recreational facilities\", \"recreational rivers\", \"rectified\", \"rectified image\", \"rectified photograph\", \"recycling\", \"redevelopment\", \"red fox\", \"redistricting\", \"red line\", \"redlining\", \"reference point\", \"reference post\", \"region\", \"regional bicycle transportation network\", \"regional destinations\", \"regional development commission\", \"regional development organization\", \"regional government\", \"regional growth strategy\", \"regional hydrogeologic assessment\", \"regional parcel data\", \"regional park\", \"regional parks\", \"regional park search areas\", \"regional planned land use\", \"regional solicitation\", \"regional trails\", \"regional trail search corridors\", \"regional transit authorities\", \"regions\", \"registered land survey\", \"registration\", \"registrations\", \"regulation\", \"remediation\", \"renewable\", \"rent\", \"rents\", \"reporting\", \"representative\", \"reservation\", \"reservations\", \"residence time\", \"residential\", \"residential building permits\", \"residential demand\", \"resources\", \"rest\", \"rest areas\", \"restorable wetlands\", \"restoration\", \"restoration priority areas\", \"restructure\", \"results\", \"retail and other commercial\", \"reuse\", \"revenue\", \"riders\", \"ridership\", \"right\", \"right of way\", \"right-of-way\", \"right of way map\", \"right of way maps\", \"rights-of-way\", \"ring-necked pheasant\", \"riparian buffers\", \"river\", \"river reaches\", \"rivers\", \"river valleys\", \"river watch\", \"rls\", \"road\", \"roadditch\", \"road incidents\", \"roads\", \"roadways\", \"rocks\", \"rotenone\", \"round goby\", \"route\", \"route direction\", \"route number\", \"routes\", \"routing\", \"row\", \"ruffe\", \"ruffed\", \"ruffed grouse\", \"rules\", \"runoff\", \"runways\", \"rural\", \"rush\", \"sales tax\", \"sand\", \"sand and gravel\", \"sand and gravel pits\", \"sand distribution model\", \"sandgravel\", \"sand pit\", \"scenic\", \"scenic easement\", \"scenic  easement\", \"scenic resources\", \"scenic rivers\", \"schedules\", \"school\", \"school district\", \"school district maps\", \"school locations\", \"school offices\", \"school program locations\", \"school programs\", \"schools\", \"scientific\", \"scientific and natural areas\", \"score the shore\", \"sds\", \"sea lamprey\", \"seaplane bases\", \"search\", \"secondary\", \"secretary of state\", \"section\", \"section boundaries\", \"sections\", \"sector representatives\", \"sediment assessment areas\", \"seed source control\", \"seed zones\", \"seeps\", \"segments\", \"self-guided trails\", \"senate\", \"senator\", \"senior transportation\", \"sensitive\", \"sensitivity\", \"septage\", \"served area\", \"service area\", \"sessions\", \"sewage\", \"sewer\", \"sewerage\", \"sewer interceptors\", \"sewers\", \"sewer service\", \"sewershed\", \"sewer systems\", \"sfha flood insurance rate map\", \"sgcn\", \"shaded relief\", \"shallow lakes\", \"shape\", \"shelter\", \"shelters\", \"sheriff\", \"sheriff sale\", \"sheriffs office\", \"shore\", \"shore impact zone\", \"shoreland\", \"shoreland classification\", \"shoreline\", \"short counts\", \"shoulder\", \"sidewalks\", \"sieve\", \"significant existing vegetation stands\", \"significant natural resources\", \"single family residential\", \"sinkhole\", \"sinkhole locations\", \"sinkhole probability\", \"sinkholes\", \"siphon\", \"site\", \"site assessment\", \"site vegetation\", \"situs\", \"sixteenth section\", \"siz\", \"slope\", \"slr\", \"slraoc\", \"slr aoc\", \"sna\", \"snaring\", \"snowmobile\", \"snowshoe\", \"society\", \"socioeconomic characteristics\", \"soil\", \"soil boring logs\", \"soil borings\", \"soil erosion\", \"soils\", \"soil survey\", \"soil temperature\", \"solid waste\", \"span\", \"special generator\", \"special recreation features\", \"special regulations\", \"special well construction area\", \"species in greatest conservation need\", \"spill\", \"spills\", \"spiny waterflea\", \"splake\", \"spring\", \"spring fens\", \"springs\", \"s-ranks\", \"ssurgo\", \"standard\", \"stand exam list\", \"state\", \"state assessed property\", \"state assessment\", \"state auditor\", \"state boundary\", \"state forest campgrounds\", \"state forests\", \"state highway\", \"state park\", \"state parks\", \"state ranks\", \"state recreation areas\", \"state representative\", \"state right of ways\", \"state_rw_fp_currentfeature class name\", \"state senator\", \"state trails\", \"state water trails\", \"state wayside areas\", \"statewide_plat_fp\", \"statewide_rr_fp feature class name\", \"static\", \"station areas\", \"station plat images\", \"stations\", \"statistics\", \"statsgo\", \"statsgo2\", \"status\", \"statutory boundaries\", \"st croix river\", \"steampower\", \"stearns\", \"st lawrence formation\", \"st louis river\", \"st louis river area of concern\", \"stockpile\", \"stop\", \"stops\", \"storm sewer\", \"stormwater\", \"storm water\", \"story map\", \"st peter sandstone\", \"strahler\", \"stream\", \"stream flow monitoring\", \"stream monitoring\", \"stream order\", \"streams\", \"stream sink\", \"stream survey\", \"stream trout lakes\", \"street\", \"streetcar\", \"street names\", \"streets\", \"struc\", \"structure\", \"sts\", \"subdivision\", \"subdivisions\", \"submersible\", \"sub-region\", \"subsection\", \"subsections\", \"substations\", \"subsurface\", \"subsurface recharge\", \"superfund\", \"supervised living\", \"supervisor districts\", \"surface\", \"surface area\", \"surface infiltration\", \"surface topography\", \"surface type\", \"surface water\", \"surface water monitoring\", \"surface water quality\", \"surficial geology\", \"surficial hydrology\", \"surficial sand\", \"surficial sand aquifer\", \"survey\", \"surveyed\", \"surveying\", \"sustainability\", \"sustainable landuse\", \"swamp\", \"swamps\", \"swcd\", \"swimming\", \"system\", \"talu\", \"tank\", \"tanks\", \"taudem\", \"tax-based revitalization account\", \"taxes\", \"tax parcel\", \"tax parcels\", \"taz\", \"tazs\", \"tbi\", \"tbra\", \"teen\", \"telecom\", \"telecommunications\", \"telephone exchanges\", \"telephone service areas\", \"television\", \"temperature\", \"template\", \"tent\", \"terrestrial invasive species\", \"test hole drilling\", \"text-to-9-1-1\", \"thalweg\", \"thoroughfare\", \"threespine stickleback\", \"thrive msp 2040\", \"thrivemsp 2040\", \"thrivemsp 2040 community designations\", \"through\", \"tia\", \"tiered aquatic life use\", \"tiff\", \"tiger\", \"tile\", \"tillage history\", \"timber\", \"timberland\", \"tipi\", \"tis code\", \"tma\", \"tmdl\", \"tod\", \"toolbox\", \"topo\", \"topographic\", \"topographic map\", \"topographic wetness index\", \"topography\", \"tourism\", \"towers\", \"township\", \"township boundaries\", \"township boundary\", \"townships\", \"toxaphene\", \"toxics reduction\", \"tpp\", \"tract\", \"tract correspondence\", \"tracts\", \"traffic\", \"traffic analysis zones\", \"traffic assignment zones\", \"traffic counts\", \"traffic volume\", \"trail\", \"trailer\", \"trail networks\", \"trails\", \"train\", \"trains\", \"trans\", \"transfer\", \"transit\", \"transit advantage\", \"transit capita llevy communities\", \"transit capital levy communities\", \"transit centers\", \"transit facilities\", \"transit fare district\", \"transit improvement areas\", \"transit link\", \"transit market areas\", \"transit master\", \"transit on-board survey\", \"transit oriented development\", \"transit patterns\", \"transit patterns by node segments\", \"transit pattern stop segs\", \"transit planning\", \"transit routes\", \"transit service\", \"transit services\", \"transit stations\", \"transit stops\", \"transit system\", \"transit taxing district\", \"transitway\", \"transitway alignment\", \"transitway buffers\", \"transitways\", \"transitway stations\", \"transmission\", \"transmission line\", \"transmission lines\", \"transporation\", \"transportation\", \"transportation analysis zones\", \"transportation policy plan\", \"transport capacity\", \"trapping\", \"travel\", \"travel behavior inventory\", \"traveler\", \"travel information centers\", \"treadway\", \"treatment\", \"tree\", \"tree canopy\", \"tree damage\", \"tree health\", \"trees\", \"tribal\", \"tribal government\", \"tribal lands\", \"tribe\", \"trip planning\", \"trout\", \"trout fishing\", \"trs\", \"truck counts\", \"trunk highway\", \"trust land\", \"tss\", \"tubenose goby\", \"turbidity\", \"turbine\", \"turkey\", \"turkey harvest\", \"turning movement counts\", \"tv towers\", \"tv transmission\", \"twi\", \"twin cities\", \"type\", \"undesignated musa\", \"undesignated musa reserve\", \"undeveloped\", \"undisturbed lands\", \"unorganized territories\", \"unorganized territory boundary\", \"unpaved\", \"unpermitted dump\", \"upload\", \"urban\", \"urban fishing\", \"urban flooding\", \"urban heat island\", \"urbanized area\", \"urban service boundary\", \"us\", \"usage\", \"us census\", \"usda\", \"user facilities\", \"us geological survey\", \"usgs\", \"usgs map index\", \"usgs quadrangle maps\", \"usgs quads\", \"usgs topographic maps\", \"us highway\", \"us national vegetation classification\", \"us president\", \"us representative\", \"us senator\", \"utilites\", \"utilities\", \"utilitiescommunication\", \"utilitiescommunication wastewater\", \"utility\", \"utilization\", \"uza\", \"vacated\", \"vacated right of way\", \"vactor\", \"validation\", \"valuation images\", \"value\", \"vanpool\", \"vegetation\", \"vegetation cover\", \"vegetation map\", \"vehicle\", \"vertical\", \"vertical control\", \"vertical travel time\", \"veterinarian\", \"vic\", \"viewshed\", \"visibility\", \"vision\", \"visual sensitivity\", \"volunteer\", \"volunteer monitoring\", \"voter precinct\", \"voting\", \"voting district\", \"voting districts\", \"voting precinct\", \"voucher\", \"vtd\", \"vtds\", \"vulnerability\", \"vulnerable groundwater\", \"wab\", \"wac\", \"walk-in access\", \"walleye lakes\", \"wall tent\", \"wan\", \"ward\", \"warmwater\", \"warren nelson\", \"waseca ditch\", \"waste managment\", \"waste storage and treatement\", \"wastewater\", \"waste water\", \"wastewater monitoring\", \"wastewater reclamation facility\", \"wastewater treatment plant\", \"wastewater treatment plants\", \"water\", \"water chemistry\", \"watercourses\", \"water demand\", \"water features\", \"waterfowl\", \"water level\", \"water monitoring\", \"water planning\", \"water quality\", \"water quality project boundaries\", \"water recreation\", \"water resources\", \"waters\", \"watershed\", \"watershed boundary dataset\", \"watershed district\", \"watershed disturbance\", \"watershed management organization\", \"watershed ratio\", \"watersheds\", \"water structures\", \"water supply\", \"water supply planning\", \"water supply planning public water supply systems\", \"water table\", \"water table contours\", \"water towers\", \"water trail\", \"water trails\", \"water units\", \"wayside rests\", \"wd\", \"weather\", \"weeds\", \"well\", \"wellhead protection\", \"wellhead protection area\", \"well locations\", \"wellness\", \"wells\", \"wetland\", \"wetlands\", \"wet well\", \"whaf\", \"white perch\", \"wia\", \"wid\", \"widget\", \"width\", \"wild\", \"wild and scenic\", \"wild and scenic river\", \"wildfire\", \"wildlife\", \"wildlife action network\", \"wildlife action plan\", \"wildlife habitat\", \"wildlife management area\", \"wildlife management areas\", \"wildlife refuge\", \"wild rice\", \"wild rice lakes\", \"wild rice rivers\", \"wild rivers\", \"wind\", \"wind facility\", \"wind farm\", \"wind turbine\", \"wire center\", \"wma\", \"wma boundaries\", \"wmas\", \"wmlccs\", \"wmo\", \"wms\", \"wooded areas\", \"workers household density\", \"wq reaches\", \"wq use class\", \"wraps\", \"wwtf\", \"wwtp\", \"youth fishing ponds\", \"zcta\", \"zebra mussel\", \"zip code\", \"zip codes\", \"zip code tabulation area\", \"zoning\"]}'"
      ]
     },
     "execution_count": 4,
     "metadata": {},
     "output_type": "execute_result"
    }
   ],
   "source": [
    "response.content ##This shows all the tags "
   ]
  },
  {
   "cell_type": "markdown",
   "metadata": {},
   "source": [
    "## Perfoming a search inquiry. \n",
    "\n",
    "These next few cells will be used to find a search. I will do this by adding a tag (in this case ecological) to the base search url. Once I have it, I can request the url. "
   ]
  },
  {
   "cell_type": "code",
   "execution_count": 5,
   "metadata": {},
   "outputs": [],
   "source": [
    "tag = \"ecological\" ##here is one of the tags I found in the tag list. I can add it to a search inquiry\n"
   ]
  },
  {
   "cell_type": "code",
   "execution_count": 6,
   "metadata": {},
   "outputs": [],
   "source": [
    "base_url = \"https://gisdata.mn.gov/api/3/action/package_search?q=\" ##This does a search inquiry. "
   ]
  },
  {
   "cell_type": "code",
   "execution_count": 7,
   "metadata": {},
   "outputs": [],
   "source": [
    "package_information_url = base_url + tag ##Add them together and I get a result. \n"
   ]
  },
  {
   "cell_type": "code",
   "execution_count": 8,
   "metadata": {},
   "outputs": [
    {
     "name": "stderr",
     "output_type": "stream",
     "text": [
      "D:\\Program Files\\ArcGIS\\Pro\\bin\\Python\\envs\\arcgispro-py3\\lib\\site-packages\\urllib3\\connectionpool.py:988: InsecureRequestWarning: Unverified HTTPS request is being made to host 'gisdata.mn.gov'. Adding certificate verification is strongly advised. See: https://urllib3.readthedocs.io/en/latest/advanced-usage.html#ssl-warnings\n",
      "  InsecureRequestWarning,\n"
     ]
    }
   ],
   "source": [
    "\n",
    "package_information = requests.get(package_information_url, auth=('user', 'pass'), verify= False) ##Requsting the result from the search inquiry. "
   ]
  },
  {
   "cell_type": "markdown",
   "metadata": {},
   "source": [
    "## Getting to the shapefile\n",
    "Now that I have the requsest, I can get to the url. First, I will view the json as a dictionary. Then, I will go to the metadata. Finally, I will iterate to the shapefile url. \n"
   ]
  },
  {
   "cell_type": "markdown",
   "metadata": {},
   "source": [
    "The json.loads allows me to manipulate it as a dictionary and a list. "
   ]
  },
  {
   "cell_type": "code",
   "execution_count": 9,
   "metadata": {},
   "outputs": [],
   "source": [
    "package_dict = json.loads(package_information.content) ##This creates a dictionary.\n",
    "\n",
    "\n",
    "package_dict1 = package_dict['result'] ##Since what I want is in the result, I need to iterate a dictionary within a dictionary. \n"
   ]
  },
  {
   "cell_type": "code",
   "execution_count": 10,
   "metadata": {},
   "outputs": [],
   "source": [
    "package_list = package_dict1['results']  ##This is the metadata. Now it is a list. "
   ]
  },
  {
   "cell_type": "markdown",
   "metadata": {},
   "source": [
    "After getting into one nested dictionary, creating a varible for the meta data gets me to the url. Each number in the list is a different result. On a side note. Why is there \"results\" nested in \"result\"? That is confusing and just bad scripting. \n",
    "\n",
    "Anyway, from the package_list, I can use \"resources\" to get to the datatypes. Admittedly, I had to use trial and error to get to a shapefile (which is why I printed out name to display the datatype). "
   ]
  },
  {
   "cell_type": "code",
   "execution_count": 11,
   "metadata": {},
   "outputs": [
    {
     "name": "stdout",
     "output_type": "stream",
     "text": [
      "https://resources.gisdata.mn.gov/pub/gdrs/data/pub/us_mn_state_dnr/geos_ecological_class_system/shp_geos_ecological_class_system.zip Shapefile\n"
     ]
    }
   ],
   "source": [
    "print(package_list[0][\"resources\"][3]['url'], package_list[0][\"resources\"][3]['name']) ##here is the shapefile. It is in a different number for each result under resources. "
   ]
  },
  {
   "cell_type": "code",
   "execution_count": 12,
   "metadata": {},
   "outputs": [
    {
     "data": {
      "text/plain": [
       "6820503"
      ]
     },
     "execution_count": 12,
     "metadata": {},
     "output_type": "execute_result"
    }
   ],
   "source": [
    "r = requests.get(package_list[0][\"resources\"][3]['url'])  ##getting the Shapfile\n",
    "\n",
    "open('shp_geos_ecological_class_system.zip', 'wb').write(r.content)"
   ]
  },
  {
   "cell_type": "code",
   "execution_count": 13,
   "metadata": {},
   "outputs": [],
   "source": [
    "import zipfile\n",
    "with zipfile.ZipFile('shp_geos_ecological_class_system.zip', 'r') as zip_ref: ##unzipping it and puting it into a dir. \n",
    "    zip_ref.extractall('d:/git/GIS5572/Lab1/shapefiles')"
   ]
  },
  {
   "cell_type": "markdown",
   "metadata": {},
   "source": [
    "And now the shapefile is in the Lab 1 dir. This concludes the notebook."
   ]
  }
 ],
 "metadata": {
  "kernelspec": {
   "display_name": "Python 3",
   "language": "python",
   "name": "python3"
  },
  "language_info": {
   "codemirror_mode": {
    "name": "ipython",
    "version": 3
   },
   "file_extension": ".py",
   "mimetype": "text/x-python",
   "name": "python",
   "nbconvert_exporter": "python",
   "pygments_lexer": "ipython3",
   "version": "3.7.9"
  }
 },
 "nbformat": 4,
 "nbformat_minor": 4
}

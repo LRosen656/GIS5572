{
 "cells": [
  {
   "cell_type": "markdown",
   "metadata": {},
   "source": [
    "# Suitability Analysis using Arcpy.\n",
    "\n",
    "This notebook uses arcpy to perform a suitability analysis on a DSM. First, I will extract the DSM from DRUM. Then I will merge the rasters. Finally, I will use a hillshade, reclass, and multiply the rasters. \n",
    "\n"
   ]
  },
  {
   "cell_type": "code",
   "execution_count": 2,
   "metadata": {},
   "outputs": [],
   "source": [
    "import numpy as np\n",
    "import arcpy\n",
    "import requests"
   ]
  },
  {
   "cell_type": "markdown",
   "metadata": {},
   "source": [
    "## Part 1 Extracting the DSM From DRUM "
   ]
  },
  {
   "cell_type": "code",
   "execution_count": 18,
   "metadata": {
    "scrolled": false
   },
   "outputs": [],
   "source": [
    "drum = \"https://conservancy.umn.edu/\" ##main site\n",
    "\n",
    "handle = \"handle/11299/166578/\" ## Handle found in the metadata\n",
    "\n",
    "query = \"discover?query=DSM\"\n",
    "\n",
    "information =  requests.get(drum + handle + query)\n",
    "\n",
    "new_handle = \"handle/11299/172696/\" #found in information.content\n",
    "\n",
    "ashland = \"q2758_DSM.zip\" ##dsm needed\n",
    "\n",
    "\n",
    "end = \"?sequence=9&isAllowed=y\" ##what I needed to add for it to work\n",
    "\n",
    "\n",
    "r = requests.get(drum + \"bitstream/\" +new_handle + ashland + end)\n",
    "\n",
    "open(ashland, 'wb').write(r.content)\n",
    "import zipfile\n",
    "with zipfile.ZipFile(ashland, 'r') as zip_ref:\n",
    "    zip_ref.extractall(\"d:/git/GIS5572shpfiles/projdata/\")"
   ]
  },
  {
   "cell_type": "markdown",
   "metadata": {},
   "source": [
    "## Part 2: Merging the rasters"
   ]
  },
  {
   "cell_type": "code",
   "execution_count": 19,
   "metadata": {},
   "outputs": [],
   "source": [
    "arcpy.env.workspace = \"D:/git/GIS5572shpfiles/projdata/q2758/\" ##Workspace where the rasters are. "
   ]
  },
  {
   "cell_type": "code",
   "execution_count": 20,
   "metadata": {},
   "outputs": [
    {
     "data": {
      "text/plain": [
       "['2758-01-09_2786.img',\n",
       " '2758-03-03_2652.img',\n",
       " '2758-03-07_2719.img',\n",
       " '2758-06-01_2651.img']"
      ]
     },
     "execution_count": 20,
     "metadata": {},
     "output_type": "execute_result"
    }
   ],
   "source": [
    "rasters = arcpy.ListRasters()\n",
    "\n",
    "merge = rasters[0] ##defining the raster to merge.\n",
    "rasters\n"
   ]
  },
  {
   "cell_type": "code",
   "execution_count": 21,
   "metadata": {},
   "outputs": [
    {
     "data": {
      "text/html": [
       "<h2>Output</h2>D:/git/GIS5572shpfiles/projdata/q2758\\2758-01-09_2786.img<h2>Messages</h2>Start Time: Wednesday, May 5, 2021 1:12:03 PM<br/>D:/git/GIS5572shpfiles/projdata/q2758\\2758-01-09_2786.img is loading...<br/>D:/git/GIS5572shpfiles/projdata/q2758\\2758-03-03_2652.img is loading...<br/>D:/git/GIS5572shpfiles/projdata/q2758\\2758-03-07_2719.img is loading...<br/>D:/git/GIS5572shpfiles/projdata/q2758\\2758-06-01_2651.img is loading...<br/>Succeeded at Wednesday, May 5, 2021 1:13:17 PM (Elapsed Time: 1 minutes 14 seconds)<br/><style>.rendered_html td, .rendered_html th {text-align: left;}.rendered_html tbody {border: 1px solid black;}</style>"
      ],
      "text/plain": [
       "<Result 'D:/git/GIS5572shpfiles/projdata/q2758\\\\2758-01-09_2786.img'>"
      ]
     },
     "execution_count": 21,
     "metadata": {},
     "output_type": "execute_result"
    }
   ],
   "source": [
    "arcpy.management.Mosaic(rasters, merge) ## Merging rasters"
   ]
  },
  {
   "cell_type": "markdown",
   "metadata": {},
   "source": [
    "## Part 3: Performing the Suitability Analysis. "
   ]
  },
  {
   "cell_type": "code",
   "execution_count": 22,
   "metadata": {},
   "outputs": [],
   "source": [
    "arcpy.env.workspace = 'D:/Users/Owner/Documents/ArcGIS/Projects/Arc2_Project_4_25_2021/Arc2_Project_4_25_2021.gdb/'\n",
    "arcpy.env.overwriteOutput = True  ##Default Geodatabase"
   ]
  },
  {
   "cell_type": "code",
   "execution_count": 26,
   "metadata": {},
   "outputs": [
    {
     "data": {
      "text/html": [
       "<h2>Output</h2>D:/Users/Owner/Documents/ArcGIS/Projects/Arc2_Project_4_25_2021/Arc2_Project_4_25_2021.gdb\\DSM_52<h2>Messages</h2>Start Time: Wednesday, May 5, 2021 2:15:54 PM<br/>Building Pyramids...<br/>Calculating Statistics...<br/>Succeeded at Wednesday, May 5, 2021 2:16:25 PM (Elapsed Time: 30.54 seconds)<br/><style>.rendered_html td, .rendered_html th {text-align: left;}.rendered_html tbody {border: 1px solid black;}</style>"
      ],
      "text/plain": [
       "<Result 'D:/Users/Owner/Documents/ArcGIS/Projects/Arc2_Project_4_25_2021/Arc2_Project_4_25_2021.gdb\\\\DSM_52'>"
      ]
     },
     "execution_count": 26,
     "metadata": {},
     "output_type": "execute_result"
    }
   ],
   "source": [
    "arcpy.management.CopyRaster(\"D:/git/GIS5572shpfiles/projdata/q2758/2758-01-09_2786.img\", 'DSM') ##merged DSM\n",
    "arcpy.management.CopyRaster(\"D:/git/GIS5572shpfiles/projdata/q2758/2758-03-03_2652.img\", \"DSM_52\") ##just one tile, much quicker"
   ]
  },
  {
   "cell_type": "code",
   "execution_count": 27,
   "metadata": {},
   "outputs": [],
   "source": [
    "arcpy.ddd.HillShade(\"DSM_52\", \"HillSha_winAM\",131.87, 5, \"NO_SHADOWS\", 1) #Input, output, azimuth, zenith, and z factor\n",
    "ShadowWinteram_raster = arcpy.sa.Reclassify(\"HillSha_winAM\", \"Value\", \"1 255 1\", \"DATA\"); ShadowWinteram_raster.save(\"D:/Users/Owner/Documents/ArcGIS/Projects/Arc2_Project_4_25_2021/Arc2_Project_4_25_2021.gdb/WinterAM\")\n",
    "\n",
    "##Hillshade and Reclassify Winter Solstice Morning "
   ]
  },
  {
   "cell_type": "code",
   "execution_count": 28,
   "metadata": {},
   "outputs": [],
   "source": [
    "arcpy.ddd.HillShade(\"DSM_52\", \"HillSha_winPM\", 228.11, 5, \"NO_SHADOWS\", 1)\n",
    "ShadowWinterpm_raster = arcpy.sa.Reclassify(\"HillSha_winPM\", \"Value\", \"1 255 1\", \"DATA\"); ShadowWinterpm_raster.save(\"D:/Users/Owner/Documents/ArcGIS/Projects/Arc2_Project_4_25_2021/Arc2_Project_4_25_2021.gdb/WinterPM\")\n",
    "\n",
    "##Hillshade and Reclassify Winter Solstice Evening "
   ]
  },
  {
   "cell_type": "code",
   "execution_count": 29,
   "metadata": {},
   "outputs": [],
   "source": [
    "arcpy.ddd.HillShade(\"DSM_52\", \"HillSha_sumAM\", 60.66, 5, \"NO_SHADOWS\", 1)\n",
    "ShadowSummeram_raster = arcpy.sa.Reclassify(\"HillSha_sumAM\", \"Value\", \"1 255 1\", \"DATA\"); ShadowSummeram_raster.save(\"D:/Users/Owner/Documents/ArcGIS/Projects/Arc2_Project_4_25_2021/Arc2_Project_4_25_2021.gdb/SummerAM\")\n",
    "\n",
    "##Hillshade and Reclassify Summer Solstice Morning "
   ]
  },
  {
   "cell_type": "code",
   "execution_count": 30,
   "metadata": {},
   "outputs": [],
   "source": [
    "arcpy.ddd.HillShade(\"DSM_52\", \"HillSha_sumPM\", 299.33, 5, \"NO_SHADOWS\", 1)\n",
    "ShadowSummerpm_raster = arcpy.sa.Reclassify(\"HillSha_sumPM\", \"Value\", \"1 255 1\", \"DATA\"); ShadowSummerpm_raster.save(\"D:/Users/Owner/Documents/ArcGIS/Projects/Arc2_Project_4_25_2021/Arc2_Project_4_25_2021.gdb/SummerPM\")\n",
    "\n",
    "##Hillshade and Reclassify Winter Solstice Morning "
   ]
  },
  {
   "cell_type": "code",
   "execution_count": 34,
   "metadata": {},
   "outputs": [],
   "source": [
    "Final_52 = arcpy.Raster(\"WinterAM\") * arcpy.Raster(\"WinterPM\") * arcpy.Raster(\"SummerAM\") * arcpy.Raster(\"SummerPM\") ##Multiplying all four rasters to get one suitability output"
   ]
  },
  {
   "cell_type": "code",
   "execution_count": 36,
   "metadata": {},
   "outputs": [],
   "source": [
    "Final_52.save(\"D:/Users/Owner/Documents/ArcGIS/Projects/Arc2_Project_4_25_2021/Arc2_Project_4_25_2021.gdb/Final\") ##Saving the output. "
   ]
  },
  {
   "cell_type": "markdown",
   "metadata": {},
   "source": [
    "The final output is stored the database. This conclude the notebook."
   ]
  }
 ],
 "metadata": {
  "kernelspec": {
   "display_name": "Python 3",
   "language": "python",
   "name": "python3"
  },
  "language_info": {
   "codemirror_mode": {
    "name": "ipython",
    "version": 3
   },
   "file_extension": ".py",
   "mimetype": "text/x-python",
   "name": "python",
   "nbconvert_exporter": "python",
   "pygments_lexer": "ipython3",
   "version": "3.7.4"
  }
 },
 "nbformat": 4,
 "nbformat_minor": 4
}
